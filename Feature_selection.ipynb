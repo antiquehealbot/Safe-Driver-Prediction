{
  "cells": [
    {
      "metadata": {
        "_cell_guid": "f4a9b1b3-2eb2-4a66-b67a-47b786813a8c",
        "collapsed": true,
        "_uuid": "29ea73cfe086478ccdb3667312f0f7ea44a701a1",
        "trusted": false
      },
      "cell_type": "code",
      "source": "# This Python 3 environment comes with many helpful analytics libraries installed\n# It is defined by the kaggle/python docker image: https://github.com/kaggle/docker-python\n# For example, here's several helpful packages to load in \n\nimport numpy as np # linear algebra\nimport pandas as pd # data processing, CSV file I/O (e.g. pd.read_csv)\nimport matplotlib.pyplot as plt\nimport seaborn as sns\n\n# Input data files are available in the \"../input/\" directoy.\n# For example, running this (by clicking run or pressing Shift+Enter) will list the files in the input directory\n\nfrom subprocess import check_output\n#print(check_output([\"ls\", \"../input\"]).decode(\"utf8\"))\n\n# Any results you write to the current directory are saved as output.",
      "execution_count": null,
      "outputs": []
    },
    {
      "metadata": {
        "scrolled": true,
        "_cell_guid": "107a740e-c401-4a7d-be19-b755b3f278c4",
        "_uuid": "653693de649b600fd117b08353207485e721fa05",
        "trusted": false,
        "collapsed": true
      },
      "cell_type": "code",
      "source": "train = pd.read_csv('../input/train.csv')\nprint(train.shape)\ntrain.head()",
      "execution_count": null,
      "outputs": []
    },
    {
      "metadata": {
        "_cell_guid": "6ca27082-ef09-4c0a-be76-533597312c7c",
        "_uuid": "813194c412dcd66f1380326aed950dccbbc0fc40"
      },
      "cell_type": "markdown",
      "source": "# Data Description\nAs is shown in the table above, the characteristics of the data are as follows:\n1. The size of train data set is (595212, 59), which means there are 595212 samples for trainning and each sample has 57 features(not including 'id' and 'target').\n2. Feature names contain postfix 'bin' to indicate binary features and 'cat' to indicate categorical features. Features without postfix mentioned above are either continuous or ordinal. \n3. Values of -1 indicate that the feature value was missing.\n4. In order to deal with data better, we classify the features as 4 types as follow.\n"
    },
    {
      "metadata": {
        "_cell_guid": "a42a77d6-107e-48d5-8a2e-a73376dd084c",
        "_uuid": "43e4367e02a8fdb1c1b1462544c1eaca82ee1459",
        "trusted": false,
        "collapsed": true
      },
      "cell_type": "code",
      "source": "cat_features = []\nbin_features = []\ncontinue_features = []\nordinal_features = []\nfor i in train.columns[2:]:\n    if i.endswith('_bin'):\n        bin_features.append(i)\n    elif i.endswith('_cat'):\n        cat_features.append(i)\n    elif train[i].dtype == 'float64':\n        continue_features.append(i)\n    elif train[i].dtype == 'int64':\n        ordinal_features.append(i)\nprint ('categorical features:')\nprint (cat_features)\nprint ('binary features:')\nprint (bin_features)\nprint ('continue features:')\nprint (continue_features)\nprint ('ordinal features:')\nprint (ordinal_features)",
      "execution_count": null,
      "outputs": []
    },
    {
      "metadata": {
        "_cell_guid": "78b1490b-73a3-43c3-ba0f-d185deffd8bb",
        "collapsed": true,
        "_uuid": "39972ba8ed3d19974aa02b68c5f34311fe0df206",
        "trusted": false
      },
      "cell_type": "code",
      "source": "print ('binary features distributions on target = 1')\nfig, ax = plt.subplots(6,3,figsize=(15,30))\nfor i in range(len(bin_features)):\n    cat_perc = train[[bin_features[i], 'target']].groupby([bin_features[i]],as_index=False).mean()\n    cat_perc.sort_values(by='target', ascending=False, inplace=True)\n    # Bar plot\n    # Order the bars descending on target mean\n    sns.barplot(ax=ax[int(i/3),i%3], x=bin_features[i], y='target', data=cat_perc, order=cat_perc[bin_features[i]])\n    ax[int(i/3),i%3].set_ylabel('% target = 1')\n    ax[int(i/3),i%3].set_xlabel(bin_features[i])\n    #sns.distplot(train[cat_features[i]].groupby([cat_features[i]],as_index=False).sum(),ax=ax[int(i/2),i%2])\nplt.show()",
      "execution_count": null,
      "outputs": []
    },
    {
      "metadata": {
        "_cell_guid": "f836898a-df52-4ba4-b4a0-97f96c748302",
        "_uuid": "b0733970107c137c72b9eb129ebcf7d27f0e0172",
        "trusted": false,
        "collapsed": true
      },
      "cell_type": "code",
      "source": "train.drop(['ps_calc_15_bin','ps_calc_16_bin','ps_calc_17_bin','ps_calc_18_bin','ps_calc_19_bin','ps_calc_20_bin'],axis=1,inplace=True)",
      "execution_count": null,
      "outputs": []
    },
    {
      "metadata": {
        "_cell_guid": "90c58daf-329d-4b86-bea5-640a389e6e72",
        "collapsed": true,
        "_uuid": "e1d02e22cdb03ce23207de528acbdf5a7d77e79b",
        "trusted": false
      },
      "cell_type": "code",
      "source": "print ('categorical features distributions on target = 1')\nfig, ax = plt.subplots(7,2,figsize=(15,30))\nfor i in range(len(cat_features)):\n    cat_perc = train[[cat_features[i], 'target']].groupby([cat_features[i]],as_index=False).mean()\n    cat_perc.sort_values(by='target', ascending=False, inplace=True)\n    # Bar plot\n    # Order the bars descending on target mean\n    sns.barplot(ax=ax[int(i/2),i%2], x=cat_features[i], y='target', data=cat_perc, order=cat_perc[cat_features[i]])\n    ax[int(i/2),i%2].set_ylabel('% target = 1')\n    ax[int(i/2),i%2].set_xlabel(cat_features[i])\n    #sns.distplot(train[cat_features[i]].groupby([cat_features[i]],as_index=False).sum(),ax=ax[int(i/2),i%2])\nplt.show()",
      "execution_count": null,
      "outputs": []
    },
    {
      "metadata": {
        "_cell_guid": "2970e3dd-4f41-442a-a6b5-1fb4d63b3bd3",
        "_uuid": "2006ebfa0c15412762908b011f59983af5baf39f"
      },
      "cell_type": "markdown",
      "source": "'ps_ind_02_cat','ps_ind_04_cat','ps_in_05_cat','ps_car_01_cat','ps_car_07_cat','ps_car_09_cat', -1 great proportion\n'ps_car_02_car' -1 low proportion "
    },
    {
      "metadata": {
        "_cell_guid": "a2b26b6a-cf38-4ac9-a559-1364da69c4b4",
        "collapsed": true,
        "_uuid": "c6b3b09e795af3e0a5303cfea35272d85a06165a",
        "trusted": false
      },
      "cell_type": "code",
      "source": "print ('ordinal features distributions on target = 1')\nfig, ax = plt.subplots(8,2,figsize=(15,30))\nfor i in range(len(ordinal_features)):\n    cat_perc = train[[ordinal_features[i], 'target']].groupby([ordinal_features[i]],as_index=False).mean()\n    cat_perc.sort_values(by='target', ascending=False, inplace=True)\n    # Bar plot\n    # Order the bars descending on target mean\n    sns.barplot(ax=ax[int(i/2),i%2], x=ordinal_features[i], y='target', data=cat_perc, order=cat_perc[ordinal_features[i]])\n    ax[int(i/2),i%2].set_ylabel('% target = 1')\n    ax[int(i/2),i%2].set_xlabel(ordinal_features[i])\n    #sns.distplot(train[cat_features[i]].groupby([cat_features[i]],as_index=False).sum(),ax=ax[int(i/2),i%2])\nplt.show()",
      "execution_count": null,
      "outputs": []
    },
    {
      "metadata": {
        "_cell_guid": "529ba891-0cf0-41c7-8443-5ed0668ef032",
        "collapsed": true,
        "_uuid": "3d8a198ee5d79d763a172e8a90a1a8a832e425bd",
        "trusted": false
      },
      "cell_type": "code",
      "source": "#train.drop(['ps_calc_04','ps_calc_09'],axis=1,inplace=True)",
      "execution_count": null,
      "outputs": []
    },
    {
      "metadata": {
        "_cell_guid": "2e2c805b-c05a-4ed1-becd-278b637ee066",
        "collapsed": true,
        "_uuid": "aac58ac2142dd9fa662547b66a23bac067617f3a",
        "trusted": false
      },
      "cell_type": "code",
      "source": "print ('continuous features distributions')\nfig, ax = plt.subplots(5,2,figsize=(15,30))\nfor i in range(len(continue_features)):\n    sns.distplot(train[continue_features[i]],ax=ax[int(i/2),i%2])\nplt.show()",
      "execution_count": null,
      "outputs": []
    },
    {
      "metadata": {
        "_cell_guid": "68f99191-cf80-4e63-98c4-19fb0f7776d8",
        "_uuid": "66d897308ed872e34c0c904fcc5fe7ef5e2451e4",
        "trusted": false,
        "collapsed": true
      },
      "cell_type": "code",
      "source": "plt.figure(figsize=(8,6))\nsns.countplot(train['target'])\nplt.xlabel('Target')\nprint ('Percentage of target = 1 :',(train['target'].sum()/train.shape[0])*100,'%')",
      "execution_count": null,
      "outputs": []
    },
    {
      "metadata": {
        "_cell_guid": "e52405b2-8962-4c03-bfb2-c5bf671ac919",
        "_uuid": "5f7f6b0ad47d5292333217b7620a24fa5e9326f0"
      },
      "cell_type": "markdown",
      "source": "As we can see, the **target** value is **imbalanced** so that we need to be careful."
    },
    {
      "metadata": {
        "_cell_guid": "4d51efbf-0163-4223-b74b-5fccfe650ef0",
        "_uuid": "9d99c755e48b3e8e8b6c87ab8db881daf5727f61"
      },
      "cell_type": "markdown",
      "source": " ## (a) Missing Values\nBecause values of -1 indicate that the feature was missing from the observation, the distribution of missing values can be shown by counting numbers of '-1' of each column."
    },
    {
      "metadata": {
        "scrolled": false,
        "_cell_guid": "9c2481c1-a2f6-4e8e-928d-8235da861b2c",
        "_uuid": "37d0a9ec1806cb82bc93c7fbb2cd03f0d231c013",
        "trusted": false,
        "collapsed": true
      },
      "cell_type": "code",
      "source": "miss_features = []\nmiss_perc = []\nmiss_cat = []\nfor f in train.columns:\n    miss = train[train[f] == -1][f].count()\n    if miss > 0:\n        miss_features.append(f)\n        if f.endswith('_cat'):\n            miss_cat.append(f)\n        miss_perc.append(miss/train.shape[0])\nplt.figure(figsize=(10,8))\nplt.bar(range(len(miss_features)),miss_perc)\nplt.xticks(range(len(miss_features)),miss_features,rotation=25,fontsize=12)\nplt.ylabel('Percentage of missing values',fontsize=18)\nplt.title('Missing Values distributions',fontsize=18)",
      "execution_count": null,
      "outputs": []
    },
    {
      "metadata": {
        "_cell_guid": "ff23b485-ec33-4c8a-986a-2ac229ec075a",
        "_uuid": "d9f34cbd122b0e2dd0c702b52d00122c0f32a1ea"
      },
      "cell_type": "markdown",
      "source": "As we can see above, there are 13 features that contains missing values. Especially,  '**ps_reg_03**', '**ps_car_03_cat**', '**ps_car_05_cat**' and '**ps_car_14**' have many missing values to be handled."
    },
    {
      "metadata": {
        "_cell_guid": "33e95709-86af-4758-b92f-798b3c13e07b",
        "_uuid": "be9b5a2d7748da03d522b087a615f4ba8be0cc61"
      },
      "cell_type": "markdown",
      "source": "From the figure above, we can see that the proportions of missing values for some features are large, so **keeping the missing values as a separate category value** would be better than replacing them by the mode. These features are as follow:\n1. 'ps_ind_02_cat'\n2. 'ps_ind_04_cat'\n3. 'ps_ind_05_cat'\n4. 'ps_car_01_cat'\n5. 'ps_car_03_cat'\n6. 'ps_car_05_cat'\n7. 'ps_car_07_cat'\n8. 'ps_car_09_cat'\n\nMaybe the customers with a missing value appear to have a much higher (in some cases much lower) probability to ask for an insurance claim. \n## (b) Handling Missing Values\nAccording to the features classification, we can handle features as follow:\n1. '**ps_car_03_cat**' and  '**ps_car_05_cat**' have a large proportion of missing values, so at first we **remove** these two features.\n2. '**ps_reg_03**', '**ps_car_12**', and '**ps_car_14**' are continuous values, so we replace the missing values by the **mean**.\n3. Missing values of **other** features are replaced by the **mode**. \n"
    },
    {
      "metadata": {
        "_cell_guid": "c0a5ead6-a22a-4e17-b582-da51d613c307",
        "_uuid": "880ff418275e4643cab098460cf8b5d803f1b61f"
      },
      "cell_type": "markdown",
      "source": "# Data Visualization\nIn order to understand the data better, we use some figures to show the relationship between features and target.\n## Categorical Features\n### Relationships between Categorical features and the target."
    },
    {
      "metadata": {
        "scrolled": false,
        "_cell_guid": "ddebca6b-c819-446d-82b6-11408179ba4b",
        "_uuid": "fe35894ae72f5c00f6b1e3d44395cc5ba62973a0",
        "trusted": false,
        "collapsed": true
      },
      "cell_type": "code",
      "source": "plt.figure(figsize=(16,12))\nplt.title('Pearson Correlation of features', y=1.05, size=15)\nsns.heatmap(train.corr(),cmap=\"YlGnBu\")",
      "execution_count": null,
      "outputs": []
    },
    {
      "metadata": {
        "_cell_guid": "b25abe2c-5739-4206-b65c-bfd649d4491f",
        "_uuid": "d0a1c5cef5398b5b67f2ba8ed70fbbf56117129a"
      },
      "cell_type": "markdown",
      "source": "(ps_ind_16_bin,ps_ind_17_bin)  -0.52 cor\n(ps_ind_16_bin,ps_ind_18_bin)  -0.59 cor\n"
    },
    {
      "metadata": {
        "_cell_guid": "d8f61fe4-76b2-424a-8d25-488a60d83603",
        "_uuid": "7e838cebb71c800de8345669acd91fbd711d9a99"
      },
      "cell_type": "markdown",
      "source": "From the correlation map of features, we can see that the majority of the features display zero or no correlation to one another. This is a good news. There are eight pairs features that might have strong linear correlation as follow:\n1. (ps_ind_12_bin, ps_ind_14)\n2. (ps_ind_13_bin, ps_ind_14)\n3. (ps_car_04_cat, ps_car_12)\n4. (ps_car_04_cat, ps_car_13)\n5. (ps_reg_01, ps_reg_03)\n6. (ps_reg_02, ps_reg_03)\n7. (ps_car_12, ps_car_13)\n8. (ps_car_13, ps_car_15)"
    },
    {
      "metadata": {
        "_cell_guid": "16cba15d-5811-41ea-9ad3-d2f7265973d3",
        "collapsed": true,
        "_uuid": "e7182325c85037e26ac8e3f078f9e3dcb2ee80e9",
        "trusted": false
      },
      "cell_type": "code",
      "source": "from sklearn.ensemble import RandomForestClassifier\ntarget = train['target']\ntrain.drop('target',axis=1,inplace=True)\ntrain.drop('id',axis=1,inplace=True)",
      "execution_count": null,
      "outputs": []
    },
    {
      "metadata": {
        "_cell_guid": "ec7de54f-b128-491f-a96c-a3feaf0ec0f8",
        "_uuid": "64543688b59843a11e9e6db21c8e18a36a7e8509",
        "trusted": false,
        "collapsed": true
      },
      "cell_type": "code",
      "source": "import random\nimport xgboost as xgb\nfrom sklearn import *\ndef gini(y, pred):\n    fpr, tpr, thr = metrics.roc_curve(y, pred, pos_label=1)\n    g = 2 * metrics.auc(fpr, tpr) - 1\n    return g\n\ndef gini_xgb(pred, y):\n    y = y.get_label()\n    return 'gini', gini(y, pred) / gini(y, y)\nrandom.seed( 3 )\nx1, x2, y1, y2 = model_selection.train_test_split(train, target, test_size=0.3, random_state=6)\nwatchlist = [(xgb.DMatrix(x1, y1), 'train'), (xgb.DMatrix(x2, y2), 'valid')]\nparams = {'eta': 0.09, 'max_depth': 6, 'objective': 'binary:logistic', 'seed': 16, 'silent': True, 'colsample_bytree': 0.6}\nmodel = xgb.train(params, xgb.DMatrix(x1, y1), 1000,  watchlist, feval=gini_xgb, maximize=True, verbose_eval=50, early_stopping_rounds=100)",
      "execution_count": null,
      "outputs": []
    },
    {
      "metadata": {
        "_cell_guid": "77d404f8-ebaf-497b-9ed2-562ce6da663b",
        "_uuid": "8c1da6fafbf895f8ed9140556f77129949bff307",
        "trusted": false,
        "collapsed": true
      },
      "cell_type": "code",
      "source": "xgb.plot_importance(booster=model,max_num_features=15)",
      "execution_count": null,
      "outputs": []
    },
    {
      "metadata": {
        "_cell_guid": "40e39d7b-350a-4054-9fc0-d96855cb2869",
        "_uuid": "729adcd4f077e5121dda6f0b02c6da230c16cbe0",
        "trusted": false,
        "collapsed": true
      },
      "cell_type": "code",
      "source": "rf = RandomForestClassifier(n_estimators=150, max_depth=8, min_samples_leaf=4, max_features=0.2, n_jobs=-1, random_state=0)\nrf.fit(train, target)\n#features = train.columns.values\nprint(\"----- Training Done -----\")\nimportance = rf.feature_importances_\nfeatures = train.columns.values\nplt.figure(figsize=(10,12))\nimportance = pd.DataFrame(data=importance,index=features,columns=['importance'])\nimportance.sort_values('importance', ascending=False, inplace=True)\n# Bar plot\n# Order the bars descending on target mean\nsns.barplot(x='importance', y=importance.index, data=importance)\nsns.despine(left=True, bottom=True)",
      "execution_count": null,
      "outputs": []
    },
    {
      "metadata": {
        "_cell_guid": "524195ea-b986-42e0-98a4-51fbc10e09bc",
        "_uuid": "9d0eaa64974afb59b95965970a02f5fd6c490758",
        "trusted": false,
        "collapsed": true
      },
      "cell_type": "code",
      "source": "importance",
      "execution_count": null,
      "outputs": []
    },
    {
      "metadata": {
        "_cell_guid": "8469f96a-e4c1-459a-8fdc-26b461ba9649",
        "_uuid": "1ff105a41784836acb263628a8ebd62ccd1ff900",
        "trusted": false,
        "collapsed": true
      },
      "cell_type": "code",
      "source": "a_arr = [0.01,0.05,0.1]\nd_arr = [1,10,100,1000]\nresult = []\nfor a in a_arr:\n    temp = []\n    for d in d_arr:\n        f = (1.0-(1.0-a)**d)\n        temp.append(f)\n    result.append(temp)\n        ",
      "execution_count": null,
      "outputs": []
    },
    {
      "metadata": {
        "_cell_guid": "31b5ca48-dccf-491d-b004-79e896a214c7",
        "_uuid": "16012c47069d78ed8a2e0ae88ada05c3950fedbc",
        "trusted": false,
        "collapsed": true
      },
      "cell_type": "code",
      "source": "plt.figure(figsize=(10,8))\nplt.title('the fraction f', y=1.05, size=15)\nsns.heatmap(result,xticklabels=d_arr,yticklabels=a_arr,cmap=\"YlGnBu\",annot=True)\nplt.xlabel('d',fontsize=15)\nplt.ylabel('epsilon / a',fontsize=15)",
      "execution_count": null,
      "outputs": []
    },
    {
      "metadata": {
        "_cell_guid": "e944c805-351c-42c1-b76f-5dda9d3d8dc6",
        "collapsed": true,
        "_uuid": "60701ce6de2f312e45cee743e7ee0586984359f5",
        "trusted": false
      },
      "cell_type": "code",
      "source": "",
      "execution_count": null,
      "outputs": []
    }
  ],
  "metadata": {
    "kernelspec": {
      "display_name": "Python 3",
      "language": "python",
      "name": "python3"
    },
    "language_info": {
      "file_extension": ".py",
      "codemirror_mode": {
        "version": 3,
        "name": "ipython"
      },
      "version": "3.6.3",
      "name": "python",
      "nbconvert_exporter": "python",
      "mimetype": "text/x-python",
      "pygments_lexer": "ipython3"
    }
  },
  "nbformat": 4,
  "nbformat_minor": 1
}